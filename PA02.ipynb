{
 "cells": [
  {
   "cell_type": "markdown",
   "id": "0478f90e",
   "metadata": {},
   "source": [
    "## Step 1: Hello, Data!"
   ]
  },
  {
   "cell_type": "code",
   "execution_count": 7,
   "id": "0e45d3b9",
   "metadata": {},
   "outputs": [
    {
     "data": {
      "application/vnd.microsoft.datawrangler.viewer.v0+json": {
       "columns": [
        {
         "name": "index",
         "rawType": "int64",
         "type": "integer"
        },
        {
         "name": "Customer_ID",
         "rawType": "object",
         "type": "string"
        },
        {
         "name": "Age",
         "rawType": "float64",
         "type": "float"
        },
        {
         "name": "Gender",
         "rawType": "object",
         "type": "string"
        },
        {
         "name": "Income_Level",
         "rawType": "object",
         "type": "string"
        },
        {
         "name": "Marital_Status",
         "rawType": "object",
         "type": "string"
        },
        {
         "name": "Education_Level",
         "rawType": "object",
         "type": "string"
        },
        {
         "name": "Occupation",
         "rawType": "object",
         "type": "string"
        },
        {
         "name": "Location",
         "rawType": "object",
         "type": "string"
        },
        {
         "name": "Purchase_Category",
         "rawType": "object",
         "type": "string"
        },
        {
         "name": "Purchase_Amount",
         "rawType": "object",
         "type": "string"
        },
        {
         "name": "Frequency_of_Purchase",
         "rawType": "float64",
         "type": "float"
        },
        {
         "name": "Purchase_Channel",
         "rawType": "object",
         "type": "string"
        },
        {
         "name": "Brand_Loyalty",
         "rawType": "float64",
         "type": "float"
        },
        {
         "name": "Product_Rating",
         "rawType": "float64",
         "type": "float"
        },
        {
         "name": "Time_Spent_on_Product_Research(hours)",
         "rawType": "float64",
         "type": "float"
        },
        {
         "name": "Social_Media_Influence",
         "rawType": "object",
         "type": "unknown"
        },
        {
         "name": "Discount_Sensitivity",
         "rawType": "object",
         "type": "string"
        },
        {
         "name": "Return_Rate",
         "rawType": "float64",
         "type": "float"
        },
        {
         "name": "Customer_Satisfaction",
         "rawType": "float64",
         "type": "float"
        },
        {
         "name": "Engagement_with_Ads",
         "rawType": "object",
         "type": "unknown"
        },
        {
         "name": "Device_Used_for_Shopping",
         "rawType": "object",
         "type": "string"
        },
        {
         "name": "Payment_Method",
         "rawType": "object",
         "type": "string"
        },
        {
         "name": "Time_of_Purchase",
         "rawType": "object",
         "type": "string"
        },
        {
         "name": "Discount_Used",
         "rawType": "object",
         "type": "unknown"
        },
        {
         "name": "Customer_Loyalty_Program_Member",
         "rawType": "object",
         "type": "unknown"
        },
        {
         "name": "Purchase_Intent",
         "rawType": "object",
         "type": "string"
        },
        {
         "name": "Shipping_Preference",
         "rawType": "object",
         "type": "string"
        },
        {
         "name": "Time_to_Decision",
         "rawType": "float64",
         "type": "float"
        }
       ],
       "ref": "dc30333d-cf76-461e-bf09-f6c7d0c3ee0e",
       "rows": [
        [
         "0",
         "37-611-6911",
         "22.0",
         "Female",
         "Middle",
         "Married",
         "Bachelor's",
         "Middle",
         "Évry",
         "Gardening & Outdoors",
         "$333.80",
         "4.0",
         "Mixed",
         "5.0",
         "5.0",
         "2.0",
         null,
         "Somewhat Sensitive",
         "1.0",
         "7.0",
         null,
         "Tablet",
         "Credit Card",
         "3/1/2024",
         "True",
         "False",
         "Need-based",
         "No Preference",
         "2.0"
        ],
        [
         "1",
         "29-392-9296",
         "49.0",
         "Male",
         "High",
         "Married",
         "High School",
         "High",
         "Huocheng",
         "Food & Beverages",
         "$222.22",
         "11.0",
         "In-Store",
         "3.0",
         "1.0",
         "2.0",
         "Medium",
         "Not Sensitive",
         "1.0",
         "5.0",
         "High",
         "Tablet",
         "PayPal",
         "4/16/2024",
         "True",
         "False",
         "Wants-based",
         "Standard",
         "6.0"
        ],
        [
         "2",
         "84-649-5117",
         "24.0",
         "Female",
         "Middle",
         "Single",
         "Master's",
         "High",
         "Huzhen",
         "Office Supplies",
         "$426.22",
         "2.0",
         "Mixed",
         "5.0",
         "5.0",
         "0.3",
         "Low",
         "Not Sensitive",
         "1.0",
         "7.0",
         "Low",
         "Smartphone",
         "Debit Card",
         "3/15/2024",
         "True",
         "True",
         "Impulsive",
         "No Preference",
         "3.0"
        ]
       ],
       "shape": {
        "columns": 28,
        "rows": 3
       }
      },
      "text/html": [
       "<div>\n",
       "<style scoped>\n",
       "    .dataframe tbody tr th:only-of-type {\n",
       "        vertical-align: middle;\n",
       "    }\n",
       "\n",
       "    .dataframe tbody tr th {\n",
       "        vertical-align: top;\n",
       "    }\n",
       "\n",
       "    .dataframe thead th {\n",
       "        text-align: right;\n",
       "    }\n",
       "</style>\n",
       "<table border=\"1\" class=\"dataframe\">\n",
       "  <thead>\n",
       "    <tr style=\"text-align: right;\">\n",
       "      <th></th>\n",
       "      <th>Customer_ID</th>\n",
       "      <th>Age</th>\n",
       "      <th>Gender</th>\n",
       "      <th>Income_Level</th>\n",
       "      <th>Marital_Status</th>\n",
       "      <th>Education_Level</th>\n",
       "      <th>Occupation</th>\n",
       "      <th>Location</th>\n",
       "      <th>Purchase_Category</th>\n",
       "      <th>Purchase_Amount</th>\n",
       "      <th>...</th>\n",
       "      <th>Customer_Satisfaction</th>\n",
       "      <th>Engagement_with_Ads</th>\n",
       "      <th>Device_Used_for_Shopping</th>\n",
       "      <th>Payment_Method</th>\n",
       "      <th>Time_of_Purchase</th>\n",
       "      <th>Discount_Used</th>\n",
       "      <th>Customer_Loyalty_Program_Member</th>\n",
       "      <th>Purchase_Intent</th>\n",
       "      <th>Shipping_Preference</th>\n",
       "      <th>Time_to_Decision</th>\n",
       "    </tr>\n",
       "  </thead>\n",
       "  <tbody>\n",
       "    <tr>\n",
       "      <th>0</th>\n",
       "      <td>37-611-6911</td>\n",
       "      <td>22.0</td>\n",
       "      <td>Female</td>\n",
       "      <td>Middle</td>\n",
       "      <td>Married</td>\n",
       "      <td>Bachelor's</td>\n",
       "      <td>Middle</td>\n",
       "      <td>Évry</td>\n",
       "      <td>Gardening &amp; Outdoors</td>\n",
       "      <td>$333.80</td>\n",
       "      <td>...</td>\n",
       "      <td>7.0</td>\n",
       "      <td>NaN</td>\n",
       "      <td>Tablet</td>\n",
       "      <td>Credit Card</td>\n",
       "      <td>3/1/2024</td>\n",
       "      <td>True</td>\n",
       "      <td>False</td>\n",
       "      <td>Need-based</td>\n",
       "      <td>No Preference</td>\n",
       "      <td>2.0</td>\n",
       "    </tr>\n",
       "    <tr>\n",
       "      <th>1</th>\n",
       "      <td>29-392-9296</td>\n",
       "      <td>49.0</td>\n",
       "      <td>Male</td>\n",
       "      <td>High</td>\n",
       "      <td>Married</td>\n",
       "      <td>High School</td>\n",
       "      <td>High</td>\n",
       "      <td>Huocheng</td>\n",
       "      <td>Food &amp; Beverages</td>\n",
       "      <td>$222.22</td>\n",
       "      <td>...</td>\n",
       "      <td>5.0</td>\n",
       "      <td>High</td>\n",
       "      <td>Tablet</td>\n",
       "      <td>PayPal</td>\n",
       "      <td>4/16/2024</td>\n",
       "      <td>True</td>\n",
       "      <td>False</td>\n",
       "      <td>Wants-based</td>\n",
       "      <td>Standard</td>\n",
       "      <td>6.0</td>\n",
       "    </tr>\n",
       "    <tr>\n",
       "      <th>2</th>\n",
       "      <td>84-649-5117</td>\n",
       "      <td>24.0</td>\n",
       "      <td>Female</td>\n",
       "      <td>Middle</td>\n",
       "      <td>Single</td>\n",
       "      <td>Master's</td>\n",
       "      <td>High</td>\n",
       "      <td>Huzhen</td>\n",
       "      <td>Office Supplies</td>\n",
       "      <td>$426.22</td>\n",
       "      <td>...</td>\n",
       "      <td>7.0</td>\n",
       "      <td>Low</td>\n",
       "      <td>Smartphone</td>\n",
       "      <td>Debit Card</td>\n",
       "      <td>3/15/2024</td>\n",
       "      <td>True</td>\n",
       "      <td>True</td>\n",
       "      <td>Impulsive</td>\n",
       "      <td>No Preference</td>\n",
       "      <td>3.0</td>\n",
       "    </tr>\n",
       "  </tbody>\n",
       "</table>\n",
       "<p>3 rows × 28 columns</p>\n",
       "</div>"
      ],
      "text/plain": [
       "   Customer_ID   Age  Gender Income_Level Marital_Status Education_Level  \\\n",
       "0  37-611-6911  22.0  Female       Middle        Married      Bachelor's   \n",
       "1  29-392-9296  49.0    Male         High        Married     High School   \n",
       "2  84-649-5117  24.0  Female       Middle         Single        Master's   \n",
       "\n",
       "  Occupation  Location     Purchase_Category Purchase_Amount  ...  \\\n",
       "0     Middle      Évry  Gardening & Outdoors         $333.80  ...   \n",
       "1       High  Huocheng      Food & Beverages         $222.22  ...   \n",
       "2       High    Huzhen       Office Supplies         $426.22  ...   \n",
       "\n",
       "   Customer_Satisfaction Engagement_with_Ads  Device_Used_for_Shopping  \\\n",
       "0                    7.0                 NaN                    Tablet   \n",
       "1                    5.0                High                    Tablet   \n",
       "2                    7.0                 Low                Smartphone   \n",
       "\n",
       "   Payment_Method  Time_of_Purchase Discount_Used  \\\n",
       "0     Credit Card          3/1/2024          True   \n",
       "1          PayPal         4/16/2024          True   \n",
       "2      Debit Card         3/15/2024          True   \n",
       "\n",
       "  Customer_Loyalty_Program_Member  Purchase_Intent  Shipping_Preference  \\\n",
       "0                           False       Need-based        No Preference   \n",
       "1                           False      Wants-based             Standard   \n",
       "2                            True        Impulsive        No Preference   \n",
       "\n",
       "  Time_to_Decision  \n",
       "0              2.0  \n",
       "1              6.0  \n",
       "2              3.0  \n",
       "\n",
       "[3 rows x 28 columns]"
      ]
     },
     "execution_count": 7,
     "metadata": {},
     "output_type": "execute_result"
    }
   ],
   "source": [
    "import pandas as pd\n",
    "\n",
    "# Load data\n",
    "primary_df = pd.read_csv(\"data/Primary.csv\")\n",
    "\n",
    "\n",
    "# Display first 3 rows of the primary dataset\n",
    "primary_df.head(3)\n"
   ]
  },
  {
   "cell_type": "markdown",
   "id": "57ff7804",
   "metadata": {},
   "source": [
    "## Step 2: Pick the Right Container\n",
    "I decided to use a class here because it allowed me to group all transaction-related fields and behavior in one place. This made the later steps like cleaning and computing totals easier.\n",
    "\n"
   ]
  },
  {
   "cell_type": "markdown",
   "id": "41c4ff5e",
   "metadata": {},
   "source": [
    "## Step 3: Transaction Class"
   ]
  },
  {
   "cell_type": "code",
   "execution_count": 8,
   "id": "dceb39be",
   "metadata": {},
   "outputs": [],
   "source": [
    "class Transaction:\n",
    "    def __init__(self, Customer_ID, Age, Gender, Income_Level, Marital_Status, Education_Level,\n",
    "                 Occupation, Location, Purchase_Category, Purchase_Amount, **kwargs):\n",
    "        self.customer_id = Customer_ID\n",
    "        self.age = Age\n",
    "        self.gender = Gender\n",
    "        self.income = Income_Level\n",
    "        self.status = Marital_Status\n",
    "        self.education = Education_Level\n",
    "        self.occupation = Occupation\n",
    "        self.city = Location\n",
    "        self.category = Purchase_Category\n",
    "        \n",
    "       \n",
    "\n",
    "    def total(self):\n",
    "        return self.amount\n",
    "\n",
    "    def clean(self):\n",
    "        self.city = self.city.strip().title() if self.city else \"Unknown\"\n"
   ]
  },
  {
   "cell_type": "markdown",
   "id": "25c1325b",
   "metadata": {},
   "source": [
    "## Step 4: Bulk Loader"
   ]
  },
  {
   "cell_type": "code",
   "execution_count": 9,
   "id": "240eed69",
   "metadata": {},
   "outputs": [],
   "source": [
    "from typing import List\n",
    "\n",
    "def load_transactions(filepath: str) -> List[Transaction]:\n",
    "    import csv\n",
    "    transactions = []\n",
    "    with open(filepath, newline='', encoding='utf-8') as f:\n",
    "        reader = csv.DictReader(f)\n",
    "        for row in reader:\n",
    "            t = Transaction(**row)\n",
    "            \n",
    "    return transactions\n",
    "\n",
    "transactions = load_transactions(\"data/Primary.csv\")\n"
   ]
  },
  {
   "cell_type": "markdown",
   "id": "46e90735",
   "metadata": {},
   "source": [
    "## Step 5: Quick Profiling"
   ]
  },
  {
   "cell_type": "code",
   "execution_count": 10,
   "id": "878c5377",
   "metadata": {},
   "outputs": [
    {
     "name": "stdout",
     "output_type": "stream",
     "text": [
      "Unique cities: 0\n"
     ]
    }
   ],
   "source": [
    "prices = [t.amount for t in transactions]\n",
    "print(\"Unique cities:\", len(set([t.city for t in transactions])))\n"
   ]
  },
  {
   "cell_type": "markdown",
   "id": "1bb60f51",
   "metadata": {},
   "source": [
    "## Step 6: Spot the Grime\n",
    "\n",
    "Examples of dirty data:\n",
    "1. Inconsistent capitalization in city names\n",
    "2. Purchase amount strings with dollar signs\n",
    "3. Extra whitespace around string fields\n",
    "\n"
   ]
  },
  {
   "cell_type": "code",
   "execution_count": 11,
   "id": "f7fb14a8",
   "metadata": {},
   "outputs": [],
   "source": [
    "## Step 7: Cleaning Rules"
   ]
  },
  {
   "cell_type": "code",
   "execution_count": null,
   "id": "6ba46f85",
   "metadata": {},
   "outputs": [
    {
     "ename": "IndexError",
     "evalue": "list index out of range",
     "output_type": "error",
     "traceback": [
      "\u001b[1;31m---------------------------------------------------------------------------\u001b[0m",
      "\u001b[1;31mIndexError\u001b[0m                                Traceback (most recent call last)",
      "Cell \u001b[1;32mIn[14], line 1\u001b[0m\n\u001b[1;32m----> 1\u001b[0m \u001b[38;5;28mprint\u001b[39m(\u001b[38;5;124m\"\u001b[39m\u001b[38;5;124mBefore:\u001b[39m\u001b[38;5;124m\"\u001b[39m, transactions[\u001b[38;5;241m1\u001b[39m]\u001b[38;5;241m.\u001b[39mcity)\n\u001b[0;32m      2\u001b[0m \u001b[38;5;28mprint\u001b[39m(\u001b[38;5;124m\"\u001b[39m\u001b[38;5;124mAfter:\u001b[39m\u001b[38;5;124m\"\u001b[39m, transactions[\u001b[38;5;241m1\u001b[39m]\u001b[38;5;241m.\u001b[39mcity) \n\u001b[0;32m      3\u001b[0m \u001b[38;5;28;01mfor\u001b[39;00m t \u001b[38;5;129;01min\u001b[39;00m transactions:\n",
      "\u001b[1;31mIndexError\u001b[0m: list index out of range"
     ]
    }
   ],
   "source": [
    "print(\"Before:\", transactions[0].city)\n",
    "print(\"After:\", transactions[0].city) \n",
    "for t in transactions:\n",
    "    t.clean()\n",
    "\n"
   ]
  }
 ],
 "metadata": {
  "kernelspec": {
   "display_name": "base",
   "language": "python",
   "name": "python3"
  },
  "language_info": {
   "codemirror_mode": {
    "name": "ipython",
    "version": 3
   },
   "file_extension": ".py",
   "mimetype": "text/x-python",
   "name": "python",
   "nbconvert_exporter": "python",
   "pygments_lexer": "ipython3",
   "version": "3.12.7"
  }
 },
 "nbformat": 4,
 "nbformat_minor": 5
}
