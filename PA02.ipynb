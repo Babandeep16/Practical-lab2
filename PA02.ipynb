{
 "cells": [
  {
   "cell_type": "markdown",
   "id": "0478f90e",
   "metadata": {},
   "source": [
    "## Step 1: Hello, Data!"
   ]
  },
  {
   "cell_type": "code",
   "execution_count": 73,
   "id": "0e45d3b9",
   "metadata": {},
   "outputs": [
    {
     "data": {
      "application/vnd.microsoft.datawrangler.viewer.v0+json": {
       "columns": [
        {
         "name": "index",
         "rawType": "int64",
         "type": "integer"
        },
        {
         "name": "Customer_ID",
         "rawType": "object",
         "type": "string"
        },
        {
         "name": "Age",
         "rawType": "int64",
         "type": "integer"
        },
        {
         "name": "Gender",
         "rawType": "object",
         "type": "string"
        },
        {
         "name": "Income_Level",
         "rawType": "object",
         "type": "string"
        },
        {
         "name": "Marital_Status",
         "rawType": "object",
         "type": "string"
        },
        {
         "name": "Education_Level",
         "rawType": "object",
         "type": "string"
        },
        {
         "name": "Occupation",
         "rawType": "object",
         "type": "string"
        },
        {
         "name": "Location",
         "rawType": "object",
         "type": "string"
        },
        {
         "name": "Purchase_Category",
         "rawType": "object",
         "type": "string"
        },
        {
         "name": "Purchase_Amount",
         "rawType": "object",
         "type": "string"
        },
        {
         "name": "Frequency_of_Purchase",
         "rawType": "int64",
         "type": "integer"
        },
        {
         "name": "Purchase_Channel",
         "rawType": "object",
         "type": "string"
        },
        {
         "name": "Brand_Loyalty",
         "rawType": "int64",
         "type": "integer"
        },
        {
         "name": "Product_Rating",
         "rawType": "int64",
         "type": "integer"
        },
        {
         "name": "Time_Spent_on_Product_Research(hours)",
         "rawType": "float64",
         "type": "float"
        },
        {
         "name": "Social_Media_Influence",
         "rawType": "object",
         "type": "unknown"
        },
        {
         "name": "Discount_Sensitivity",
         "rawType": "object",
         "type": "string"
        },
        {
         "name": "Return_Rate",
         "rawType": "int64",
         "type": "integer"
        },
        {
         "name": "Customer_Satisfaction",
         "rawType": "int64",
         "type": "integer"
        },
        {
         "name": "Engagement_with_Ads",
         "rawType": "object",
         "type": "unknown"
        },
        {
         "name": "Device_Used_for_Shopping",
         "rawType": "object",
         "type": "string"
        },
        {
         "name": "Payment_Method",
         "rawType": "object",
         "type": "string"
        },
        {
         "name": "Time_of_Purchase",
         "rawType": "object",
         "type": "string"
        },
        {
         "name": "Discount_Used",
         "rawType": "bool",
         "type": "boolean"
        },
        {
         "name": "Customer_Loyalty_Program_Member",
         "rawType": "bool",
         "type": "boolean"
        },
        {
         "name": "Purchase_Intent",
         "rawType": "object",
         "type": "string"
        },
        {
         "name": "Shipping_Preference",
         "rawType": "object",
         "type": "string"
        },
        {
         "name": "Time_to_Decision",
         "rawType": "int64",
         "type": "integer"
        }
       ],
       "ref": "afb7134c-ac85-478e-b2ae-3197f45ee129",
       "rows": [
        [
         "0",
         "37-611-6911",
         "22",
         "Female",
         "Middle",
         "Married",
         "Bachelor's",
         "Middle",
         "Évry",
         "Gardening & Outdoors",
         "$333.80",
         "4",
         "Mixed",
         "5",
         "5",
         "2.0",
         null,
         "Somewhat Sensitive",
         "1",
         "7",
         null,
         "Tablet",
         "Credit Card",
         "3/1/2024",
         "True",
         "False",
         "Need-based",
         "No Preference",
         "2"
        ],
        [
         "1",
         "29-392-9296",
         "49",
         "Male",
         "High",
         "Married",
         "High School",
         "High",
         "Huocheng",
         "Food & Beverages",
         "$222.22",
         "11",
         "In-Store",
         "3",
         "1",
         "2.0",
         "Medium",
         "Not Sensitive",
         "1",
         "5",
         "High",
         "Tablet",
         "PayPal",
         "4/16/2024",
         "True",
         "False",
         "Wants-based",
         "Standard",
         "6"
        ],
        [
         "2",
         "84-649-5117",
         "24",
         "Female",
         "Middle",
         "Single",
         "Master's",
         "High",
         "Huzhen",
         "Office Supplies",
         "$426.22",
         "2",
         "Mixed",
         "5",
         "5",
         "0.3",
         "Low",
         "Not Sensitive",
         "1",
         "7",
         "Low",
         "Smartphone",
         "Debit Card",
         "3/15/2024",
         "True",
         "True",
         "Impulsive",
         "No Preference",
         "3"
        ]
       ],
       "shape": {
        "columns": 28,
        "rows": 3
       }
      },
      "text/html": [
       "<div>\n",
       "<style scoped>\n",
       "    .dataframe tbody tr th:only-of-type {\n",
       "        vertical-align: middle;\n",
       "    }\n",
       "\n",
       "    .dataframe tbody tr th {\n",
       "        vertical-align: top;\n",
       "    }\n",
       "\n",
       "    .dataframe thead th {\n",
       "        text-align: right;\n",
       "    }\n",
       "</style>\n",
       "<table border=\"1\" class=\"dataframe\">\n",
       "  <thead>\n",
       "    <tr style=\"text-align: right;\">\n",
       "      <th></th>\n",
       "      <th>Customer_ID</th>\n",
       "      <th>Age</th>\n",
       "      <th>Gender</th>\n",
       "      <th>Income_Level</th>\n",
       "      <th>Marital_Status</th>\n",
       "      <th>Education_Level</th>\n",
       "      <th>Occupation</th>\n",
       "      <th>Location</th>\n",
       "      <th>Purchase_Category</th>\n",
       "      <th>Purchase_Amount</th>\n",
       "      <th>...</th>\n",
       "      <th>Customer_Satisfaction</th>\n",
       "      <th>Engagement_with_Ads</th>\n",
       "      <th>Device_Used_for_Shopping</th>\n",
       "      <th>Payment_Method</th>\n",
       "      <th>Time_of_Purchase</th>\n",
       "      <th>Discount_Used</th>\n",
       "      <th>Customer_Loyalty_Program_Member</th>\n",
       "      <th>Purchase_Intent</th>\n",
       "      <th>Shipping_Preference</th>\n",
       "      <th>Time_to_Decision</th>\n",
       "    </tr>\n",
       "  </thead>\n",
       "  <tbody>\n",
       "    <tr>\n",
       "      <th>0</th>\n",
       "      <td>37-611-6911</td>\n",
       "      <td>22</td>\n",
       "      <td>Female</td>\n",
       "      <td>Middle</td>\n",
       "      <td>Married</td>\n",
       "      <td>Bachelor's</td>\n",
       "      <td>Middle</td>\n",
       "      <td>Évry</td>\n",
       "      <td>Gardening &amp; Outdoors</td>\n",
       "      <td>$333.80</td>\n",
       "      <td>...</td>\n",
       "      <td>7</td>\n",
       "      <td>NaN</td>\n",
       "      <td>Tablet</td>\n",
       "      <td>Credit Card</td>\n",
       "      <td>3/1/2024</td>\n",
       "      <td>True</td>\n",
       "      <td>False</td>\n",
       "      <td>Need-based</td>\n",
       "      <td>No Preference</td>\n",
       "      <td>2</td>\n",
       "    </tr>\n",
       "    <tr>\n",
       "      <th>1</th>\n",
       "      <td>29-392-9296</td>\n",
       "      <td>49</td>\n",
       "      <td>Male</td>\n",
       "      <td>High</td>\n",
       "      <td>Married</td>\n",
       "      <td>High School</td>\n",
       "      <td>High</td>\n",
       "      <td>Huocheng</td>\n",
       "      <td>Food &amp; Beverages</td>\n",
       "      <td>$222.22</td>\n",
       "      <td>...</td>\n",
       "      <td>5</td>\n",
       "      <td>High</td>\n",
       "      <td>Tablet</td>\n",
       "      <td>PayPal</td>\n",
       "      <td>4/16/2024</td>\n",
       "      <td>True</td>\n",
       "      <td>False</td>\n",
       "      <td>Wants-based</td>\n",
       "      <td>Standard</td>\n",
       "      <td>6</td>\n",
       "    </tr>\n",
       "    <tr>\n",
       "      <th>2</th>\n",
       "      <td>84-649-5117</td>\n",
       "      <td>24</td>\n",
       "      <td>Female</td>\n",
       "      <td>Middle</td>\n",
       "      <td>Single</td>\n",
       "      <td>Master's</td>\n",
       "      <td>High</td>\n",
       "      <td>Huzhen</td>\n",
       "      <td>Office Supplies</td>\n",
       "      <td>$426.22</td>\n",
       "      <td>...</td>\n",
       "      <td>7</td>\n",
       "      <td>Low</td>\n",
       "      <td>Smartphone</td>\n",
       "      <td>Debit Card</td>\n",
       "      <td>3/15/2024</td>\n",
       "      <td>True</td>\n",
       "      <td>True</td>\n",
       "      <td>Impulsive</td>\n",
       "      <td>No Preference</td>\n",
       "      <td>3</td>\n",
       "    </tr>\n",
       "  </tbody>\n",
       "</table>\n",
       "<p>3 rows × 28 columns</p>\n",
       "</div>"
      ],
      "text/plain": [
       "   Customer_ID  Age  Gender Income_Level Marital_Status Education_Level  \\\n",
       "0  37-611-6911   22  Female       Middle        Married      Bachelor's   \n",
       "1  29-392-9296   49    Male         High        Married     High School   \n",
       "2  84-649-5117   24  Female       Middle         Single        Master's   \n",
       "\n",
       "  Occupation  Location     Purchase_Category Purchase_Amount  ...  \\\n",
       "0     Middle      Évry  Gardening & Outdoors         $333.80  ...   \n",
       "1       High  Huocheng      Food & Beverages         $222.22  ...   \n",
       "2       High    Huzhen       Office Supplies         $426.22  ...   \n",
       "\n",
       "   Customer_Satisfaction Engagement_with_Ads  Device_Used_for_Shopping  \\\n",
       "0                      7                 NaN                    Tablet   \n",
       "1                      5                High                    Tablet   \n",
       "2                      7                 Low                Smartphone   \n",
       "\n",
       "   Payment_Method  Time_of_Purchase Discount_Used  \\\n",
       "0     Credit Card          3/1/2024          True   \n",
       "1          PayPal         4/16/2024          True   \n",
       "2      Debit Card         3/15/2024          True   \n",
       "\n",
       "  Customer_Loyalty_Program_Member  Purchase_Intent  Shipping_Preference  \\\n",
       "0                           False       Need-based        No Preference   \n",
       "1                           False      Wants-based             Standard   \n",
       "2                            True        Impulsive        No Preference   \n",
       "\n",
       "  Time_to_Decision  \n",
       "0                2  \n",
       "1                6  \n",
       "2                3  \n",
       "\n",
       "[3 rows x 28 columns]"
      ]
     },
     "execution_count": 73,
     "metadata": {},
     "output_type": "execute_result"
    }
   ],
   "source": [
    "import pandas as pd\n",
    "\n",
    "primary_df = pd.read_csv(\"data/Primary.csv\")\n",
    "primary_df.head(3)\n"
   ]
  },
  {
   "cell_type": "markdown",
   "id": "57ff7804",
   "metadata": {},
   "source": [
    "## Step 2: Pick the Right Container\n",
    "I decided to use a class here because it allowed me to group all transaction-related fields and behavior in one place. This made the later steps like cleaning and computing totals easier.\n",
    "\n"
   ]
  },
  {
   "cell_type": "markdown",
   "id": "41c4ff5e",
   "metadata": {},
   "source": [
    "## Step 3: Transaction Class\n",
    "I created a Transaction class that helps organize our purchase data and adds a couple of helpful methods for later steps."
   ]
  },
  {
   "cell_type": "code",
   "execution_count": 74,
   "id": "dceb39be",
   "metadata": {},
   "outputs": [],
   "source": [
    "class Transaction:\n",
    "    def __init__(self, Customer_ID, Age, Gender, Income_Level, Marital_Status, Education_Level,\n",
    "                 Occupation, Location, Purchase_Category, Purchase_Amount, **kwargs):\n",
    "        self.customer_id = Customer_ID\n",
    "        self.age = Age\n",
    "        self.gender = Gender\n",
    "        self.income = Income_Level\n",
    "        self.marital = Marital_Status\n",
    "        self.education = Education_Level\n",
    "        self.occupation = Occupation\n",
    "        self.city = Location.strip().title()\n",
    "        self.category = Purchase_Category\n",
    "        self.amount = float(Purchase_Amount.replace('$', '').strip()) if Purchase_Amount.strip() else 0.0\n",
    "\n",
    "    def total(self):\n",
    "        return self.amount\n",
    "\n",
    "    def clean(self):\n",
    "        self.city = self.city.strip().title()\n"
   ]
  },
  {
   "cell_type": "markdown",
   "id": "25c1325b",
   "metadata": {},
   "source": [
    "## Step 4: Bulk Loader\n",
    "Here, I wrote a loader function to go through the CSV file and turn each row into a Transaction object. This will make it easier to work with the data going forward.\n",
    "\n"
   ]
  },
  {
   "cell_type": "code",
   "execution_count": 75,
   "id": "240eed69",
   "metadata": {},
   "outputs": [],
   "source": [
    "from typing import List\n",
    "\n",
    "def load_transactions(filepath: str) -> List[Transaction]:\n",
    "    import csv\n",
    "    transactions = []\n",
    "    with open(filepath, newline='', encoding='utf-8') as f:\n",
    "        reader = csv.DictReader(f)\n",
    "        for row in reader:\n",
    "            try:\n",
    "                t = Transaction(**row)\n",
    "                transactions.append(t)\n",
    "            except Exception as e:\n",
    "                print(\"Skipped row due to error:\", e)\n",
    "    return transactions\n",
    "\n",
    "transactions = load_transactions(\"data/Primary.csv\")\n"
   ]
  },
  {
   "cell_type": "markdown",
   "id": "46e90735",
   "metadata": {},
   "source": [
    "## Step 5: Quick Profiling"
   ]
  },
  {
   "cell_type": "code",
   "execution_count": 76,
   "id": "878c5377",
   "metadata": {},
   "outputs": [
    {
     "name": "stdout",
     "output_type": "stream",
     "text": [
      "Min Price: 50.71\n",
      "Mean Price: 273.54764\n",
      "Max Price: 498.33\n",
      "Unique Cities: 489\n"
     ]
    }
   ],
   "source": [
    "prices = [t.amount for t in transactions]\n",
    "cities = set([t.city for t in transactions])\n",
    "\n",
    "print(\"Min Price:\", min(prices))\n",
    "print(\"Mean Price:\", sum(prices) / len(prices))\n",
    "print(\"Max Price:\", max(prices))\n",
    "print(\"Unique Cities:\", len(cities))\n"
   ]
  },
  {
   "cell_type": "markdown",
   "id": "1bb60f51",
   "metadata": {},
   "source": [
    "## Step 6: Spot the Grime\n",
    "\n",
    "Missing purchase amounts (Purchase_Amount is empty)\n",
    "\n",
    "Inconsistent casing and whitespace in Location\n",
    "\n",
    "Some rows may have invalid types that break float conversion\n",
    "\n"
   ]
  },
  {
   "cell_type": "code",
   "execution_count": 77,
   "id": "67a5364a",
   "metadata": {},
   "outputs": [
    {
     "name": "stdout",
     "output_type": "stream",
     "text": [
      "Transactions with missing/zero Purchase Amount: 0\n",
      "Sample raw city names (unprocessed): ['Győr', 'Camp Ithier', 'Loket', 'Taocheng', 'Dagup']\n",
      "Invalid amount entries: []\n"
     ]
    }
   ],
   "source": [
    "# Check for missing values in important fields\n",
    "missing_amount = sum(1 for t in transactions if t.amount == 0.0)\n",
    "print(\"Transactions with missing/zero Purchase Amount:\", missing_amount)\n",
    "\n",
    "# Check for inconsistent city names\n",
    "raw_cities = [t.city for t in transactions]\n",
    "unique_raw_cities = set(raw_cities)\n",
    "print(\"Sample raw city names (unprocessed):\", list(unique_raw_cities)[:5])\n",
    "\n",
    "# Check for invalid types \n",
    "invalid_prices = []\n",
    "for t in transactions:\n",
    "    try:\n",
    "        float(t.amount)\n",
    "    except:\n",
    "        invalid_prices.append(t.amount)\n",
    "print(\"Invalid amount entries:\", invalid_prices)\n"
   ]
  },
  {
   "cell_type": "markdown",
   "id": "f7fb14a8",
   "metadata": {},
   "source": [
    "## Step 7: Cleaning Rules\n",
    "I added a .clean() method in the class to fix things like empty prices."
   ]
  },
  {
   "cell_type": "code",
   "execution_count": 78,
   "id": "6ba46f85",
   "metadata": {},
   "outputs": [
    {
     "name": "stdout",
     "output_type": "stream",
     "text": [
      "Before cleaning: 454.39\n",
      "After cleaning: 454.39\n"
     ]
    }
   ],
   "source": [
    "print(\"Before cleaning:\", transactions[18].amount)\n",
    "transactions[18].clean()\n",
    "print(\"After cleaning:\", transactions[18].amount)\n",
    "\n",
    "\n"
   ]
  },
  {
   "cell_type": "markdown",
   "id": "777ffd1c",
   "metadata": {},
   "source": [
    "## Step 8: Transformations\n",
    "I turned the coupon codes into numeric discount values, which will be useful for analysis later on.\n",
    "\n"
   ]
  },
  {
   "cell_type": "code",
   "execution_count": 79,
   "id": "4a827ba7",
   "metadata": {},
   "outputs": [],
   "source": [
    "\n",
    "for t in transactions:\n",
    "    t.discount = 10 if t.category.lower().startswith(\"e\") else 0\n"
   ]
  },
  {
   "cell_type": "markdown",
   "id": "b5a1c3d7",
   "metadata": {},
   "source": [
    "## Step 9: Feature Engineering"
   ]
  },
  {
   "cell_type": "code",
   "execution_count": 80,
   "id": "39872ab9",
   "metadata": {},
   "outputs": [],
   "source": [
    "from datetime import datetime\n",
    "import random\n",
    "\n",
    "for t in transactions:\n",
    "    t.date = datetime(2023, 12, random.randint(1, 28))  # fake date for demo\n",
    "    t.days_since = (datetime.now() - t.date).days\n"
   ]
  },
  {
   "cell_type": "markdown",
   "id": "ed91b2e1",
   "metadata": {},
   "source": [
    "## Step 10: Mini Aggregation\n",
    "Here's a quick summary of total revenue by city. Grouping this way shows where most of the business is coming from.\n",
    "\n"
   ]
  },
  {
   "cell_type": "code",
   "execution_count": 81,
   "id": "f06d5ab0",
   "metadata": {},
   "outputs": [
    {
     "data": {
      "application/vnd.microsoft.datawrangler.viewer.v0+json": {
       "columns": [
        {
         "name": "city",
         "rawType": "object",
         "type": "string"
        },
        {
         "name": "revenue",
         "rawType": "float64",
         "type": "float"
        }
       ],
       "ref": "050855a2-19d6-4365-88a1-a02def8cdba0",
       "rows": [
        [
         "Abaetetuba",
         "255.86"
        ],
        [
         "Abiko",
         "139.83"
        ],
        [
         "Acheng",
         "430.75"
        ],
        [
         "Acobambilla",
         "494.18"
        ],
        [
         "Adani",
         "68.59"
        ]
       ],
       "shape": {
        "columns": 1,
        "rows": 5
       }
      },
      "text/plain": [
       "city\n",
       "Abaetetuba     255.86\n",
       "Abiko          139.83\n",
       "Acheng         430.75\n",
       "Acobambilla    494.18\n",
       "Adani           68.59\n",
       "Name: revenue, dtype: float64"
      ]
     },
     "execution_count": 81,
     "metadata": {},
     "output_type": "execute_result"
    }
   ],
   "source": [
    "df = pd.DataFrame([t.__dict__ for t in transactions])\n",
    "df['revenue'] = df['amount']\n",
    "revenue_by_city = df.groupby('city')['revenue'].sum()\n",
    "revenue_by_city.head()\n"
   ]
  },
  {
   "cell_type": "markdown",
   "id": "8f30178e",
   "metadata": {},
   "source": [
    "## Step 11: Serialization"
   ]
  },
  {
   "cell_type": "code",
   "execution_count": 82,
   "id": "54f65d3b",
   "metadata": {},
   "outputs": [],
   "source": [
    "df.to_json(\"cleaned_data.json\", orient=\"records\", lines=True)\n",
    "df.to_parquet(\"cleaned_data.parquet\")\n"
   ]
  },
  {
   "cell_type": "markdown",
   "id": "8651dec3",
   "metadata": {},
   "source": [
    "## Step 12: Reflection \n",
    "Using object-oriented programming really helped organize my code better. By creating a Transaction class, I was able to group related data and behavior together, like cleaning and calculating totals. Instead of writing separate functions and handling raw data everywhere, I just called methods like .clean() or .total() directly on each transaction. It made the code easier to read, debug, and scale. Overall, OOP gave my project a cleaner structure and helped me focus more on the logic instead of worrying about how to manage data."
   ]
  },
  {
   "cell_type": "markdown",
   "id": "8ba06ea0",
   "metadata": {},
   "source": [
    "## Data Dictionary"
   ]
  },
  {
   "cell_type": "markdown",
   "id": "435b5b04",
   "metadata": {},
   "source": [
    "| Field             | Type   | Description                        | Source     |\n",
    "|------------------|--------|------------------------------------|------------|\n",
    "| customer_id       | str    | Unique customer identifier         | Primary    |\n",
    "| age               | int    | Customer age                       | Primary    |\n",
    "| gender            | str    | Gender                             | Primary    |\n",
    "| income            | str    | Income level                       | Primary    |\n",
    "| marital           | str    | Marital status                     | Primary    |\n",
    "| education         | str    | Education level                    | Primary    |\n",
    "| occupation        | str    | Job title                          | Primary    |\n",
    "| city              | str    | Shipping location                  | Primary    |\n",
    "| category          | str    | Product category                   | Primary    |\n",
    "| amount            | float  | Purchase amount                    | Primary    |\n",
    "| discount          | int    | Dummy discount value               | Engineered |\n",
    "| days_since        | int    | Days since purchase                | Engineered |\n"
   ]
  }
 ],
 "metadata": {
  "kernelspec": {
   "display_name": "base",
   "language": "python",
   "name": "python3"
  },
  "language_info": {
   "codemirror_mode": {
    "name": "ipython",
    "version": 3
   },
   "file_extension": ".py",
   "mimetype": "text/x-python",
   "name": "python",
   "nbconvert_exporter": "python",
   "pygments_lexer": "ipython3",
   "version": "3.12.7"
  }
 },
 "nbformat": 4,
 "nbformat_minor": 5
}
